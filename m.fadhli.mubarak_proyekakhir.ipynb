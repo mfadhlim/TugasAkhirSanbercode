{
 "cells": [
  {
   "attachments": {},
   "cell_type": "markdown",
   "metadata": {},
   "source": [
    "# Tugas Akhir \n",
    "## Muhammad Fadhli Mubarak\n",
    "\n",
    "# 1. Business Understanding\n",
    "Pada tugas akhir kali ini, saya akan melakukan sentiment analysis terhadap suatu topik. Topik yang saya pilih adalah tentang \"hasil tuntutan hukuman terhadap kasus pembunuhan berencana Brigadir J.\" yang sedang viral beakangan ini. Tujuan dari tugas akhir ini adalah untuk mengetahui sentimen masyarakat terhadap isu ini terutama warganet yang ada di twitter. Lalu, saya akan mengambil beberapa judul berita dengan menggunakan web scraping untuk mengetahui sentimen dari judul-judul berita terkait berdasarkan hasil dari Machine Learning model yang dibuat dari data TwitterAPI."
   ]
  },
  {
   "cell_type": "code",
   "execution_count": 76,
   "metadata": {},
   "outputs": [
    {
     "name": "stderr",
     "output_type": "stream",
     "text": [
      "[nltk_data] Downloading package stopwords to\n",
      "[nltk_data]     C:\\Users\\asus\\AppData\\Roaming\\nltk_data...\n",
      "[nltk_data]   Package stopwords is already up-to-date!\n"
     ]
    },
    {
     "data": {
      "text/plain": [
       "True"
      ]
     },
     "execution_count": 76,
     "metadata": {},
     "output_type": "execute_result"
    }
   ],
   "source": [
    "# Import packages \n",
    "import pandas as pd\n",
    "import seaborn as sns\n",
    "import numpy as np\n",
    "import matplotlib.pyplot as plt\n",
    "import json, tweepy, requests, re, datetime, string, nltk\n",
    "from collections import Counter\n",
    "from nltk.corpus import stopwords\n",
    "from nltk.tokenize import word_tokenize\n",
    "from Sastrawi.Stemmer.StemmerFactory import StemmerFactory\n",
    "\n",
    "from nltk import FreqDist\n",
    "from urllib.request import Request, urlopen\n",
    "from bs4 import BeautifulSoup\n",
    "from sklearn.feature_extraction.text import TfidfVectorizer\n",
    "from sklearn.naive_bayes import GaussianNB\n",
    "from sklearn.model_selection import train_test_split\n",
    "from sklearn.metrics import classification_report, confusion_matrix, accuracy_score\n",
    "\n",
    "import gensim\n",
    "from gensim import corpora\n",
    "from gensim.models.coherencemodel import CoherenceModel\n",
    "from gensim.models.ldamodel import LdaModel\n",
    "from numpy import array\n",
    "import tqdm\n",
    "from pprint import pprint\n",
    "\n",
    "indonesia_s = stopwords.words('indonesian')\n",
    "nltk.download('stopwords')"
   ]
  },
  {
   "cell_type": "code",
   "execution_count": 77,
   "metadata": {},
   "outputs": [],
   "source": [
    "# Mempersiapkan token untuk menggunakan TwitterAPI\n",
    "\n",
    "with open(\"token.json\")as f:\n",
    "  tokens = json.load(f)\n",
    "\n",
    "bearer_token = tokens['bearer_token']\n",
    "api_key = tokens['api_key']\n",
    "api_key_secret = tokens['api_key_secret']\n",
    "access_token = tokens['access_token']\n",
    "access_token_secret = tokens['access_token_secret']"
   ]
  },
  {
   "attachments": {},
   "cell_type": "markdown",
   "metadata": {},
   "source": [
    "# 2. Data Collection\n",
    "Data collection kali ini dibagi menjadi 2 bagian yaitu data collection untuk informasi tweet menggunakan TwitterAPI (Tweepy) dan data collection judul-judul berita menggunakan BeautifulSoup4.\n",
    "\n",
    "Data-data ini diambil pada Kamis, 19 Januari 2023. Pengambilan data pada waktu yang berbeda dapat menyebabkan hasil data yang didapat berbeda pula."
   ]
  },
  {
   "attachments": {},
   "cell_type": "markdown",
   "metadata": {},
   "source": [
    "## 2.1 TwitterAPI\n",
    "Tweepy akan digunakan untuk mengumpulkan tweet-tweet mengenai penundaan pemilu selama 4 hari ke belakang, Mulai dari tanggal 18 Januari 2023 hingga 22 Januari 2023 (awalnya dari tanggal 15 namun sudah tidak bisa dirun). Hasil dari penambangan TwitterAPI akan disimpan pada DataFrame df_tweets."
   ]
  },
  {
   "cell_type": "code",
   "execution_count": 78,
   "metadata": {},
   "outputs": [],
   "source": [
    "api = tweepy.Client(bearer_token=bearer_token, wait_on_rate_limit=True)\n",
    "\n",
    "start_date = '2023-01-18T00:00:00Z'\n",
    "end_date = '2023-01-22T00:00:00Z'\n",
    "\n",
    "query = \"sambo seumur hidup -is:retweet lang:id\"\n",
    "\n",
    "response = tweepy.Paginator(api.search_recent_tweets,\n",
    "                            query = query,\n",
    "                            tweet_fields=['context_annotations', 'created_at'],\n",
    "                            start_time = start_date,\n",
    "                            end_time = end_date,\n",
    "                            max_results=100\n",
    "                               ).flatten()\n",
    "\n",
    "tweets = [tweet.text.strip() for tweet in response]"
   ]
  },
  {
   "cell_type": "code",
   "execution_count": 79,
   "metadata": {},
   "outputs": [
    {
     "data": {
      "text/html": [
       "<div>\n",
       "<style scoped>\n",
       "    .dataframe tbody tr th:only-of-type {\n",
       "        vertical-align: middle;\n",
       "    }\n",
       "\n",
       "    .dataframe tbody tr th {\n",
       "        vertical-align: top;\n",
       "    }\n",
       "\n",
       "    .dataframe thead th {\n",
       "        text-align: right;\n",
       "    }\n",
       "</style>\n",
       "<table border=\"1\" class=\"dataframe\">\n",
       "  <thead>\n",
       "    <tr style=\"text-align: right;\">\n",
       "      <th></th>\n",
       "      <th>tweets</th>\n",
       "    </tr>\n",
       "  </thead>\n",
       "  <tbody>\n",
       "    <tr>\n",
       "      <th>0</th>\n",
       "      <td>Vonis hukuman penjara seumur hidup berarti sam...</td>\n",
       "    </tr>\n",
       "    <tr>\n",
       "      <th>1</th>\n",
       "      <td>@asumsico penjara seumur hidup,... \\n\\ns&amp;amp;k...</td>\n",
       "    </tr>\n",
       "    <tr>\n",
       "      <th>2</th>\n",
       "      <td>JPU telah menuntut hukuman pada masing2 terdak...</td>\n",
       "    </tr>\n",
       "    <tr>\n",
       "      <th>3</th>\n",
       "      <td>@convomf Iya deh gue bingung. Dr gue msh cimit...</td>\n",
       "    </tr>\n",
       "    <tr>\n",
       "      <th>4</th>\n",
       "      <td>Punya pundi² seratus triliun rupiah itu bisa b...</td>\n",
       "    </tr>\n",
       "    <tr>\n",
       "      <th>...</th>\n",
       "      <td>...</td>\n",
       "    </tr>\n",
       "    <tr>\n",
       "      <th>1926</th>\n",
       "      <td>Infonya Penjahat macam LE di Penjara Seumur hi...</td>\n",
       "    </tr>\n",
       "    <tr>\n",
       "      <th>1927</th>\n",
       "      <td>Infonya Penjahat macam LE di Penjara Seumur hi...</td>\n",
       "    </tr>\n",
       "    <tr>\n",
       "      <th>1928</th>\n",
       "      <td>Infonya Penjahat macam LE di Penjara Seumur hi...</td>\n",
       "    </tr>\n",
       "    <tr>\n",
       "      <th>1929</th>\n",
       "      <td>@TRANS7 Penjara saja seumur hidup</td>\n",
       "    </tr>\n",
       "    <tr>\n",
       "      <th>1930</th>\n",
       "      <td>@msaid_didu Jgn selalu menyalahkan pemerintah ...</td>\n",
       "    </tr>\n",
       "  </tbody>\n",
       "</table>\n",
       "<p>1931 rows × 1 columns</p>\n",
       "</div>"
      ],
      "text/plain": [
       "                                                 tweets\n",
       "0     Vonis hukuman penjara seumur hidup berarti sam...\n",
       "1     @asumsico penjara seumur hidup,... \\n\\ns&amp;k...\n",
       "2     JPU telah menuntut hukuman pada masing2 terdak...\n",
       "3     @convomf Iya deh gue bingung. Dr gue msh cimit...\n",
       "4     Punya pundi² seratus triliun rupiah itu bisa b...\n",
       "...                                                 ...\n",
       "1926  Infonya Penjahat macam LE di Penjara Seumur hi...\n",
       "1927  Infonya Penjahat macam LE di Penjara Seumur hi...\n",
       "1928  Infonya Penjahat macam LE di Penjara Seumur hi...\n",
       "1929                  @TRANS7 Penjara saja seumur hidup\n",
       "1930  @msaid_didu Jgn selalu menyalahkan pemerintah ...\n",
       "\n",
       "[1931 rows x 1 columns]"
      ]
     },
     "execution_count": 79,
     "metadata": {},
     "output_type": "execute_result"
    }
   ],
   "source": [
    "# Menyimpan ke format .CSV\n",
    "# Namun karena untuk memastikan data yang digunakan sama,\n",
    "# maka line ini akan digantikan dengan membaca .csv yang sudah disimpan sebelumnya\n",
    "\n",
    "#df_tweets = pd.DataFrame(tweets, columns=[\"tweets\"])\n",
    "#df_tweets.to_csv(\"data_tweet.csv\",index=False)\n",
    "\n",
    "\n",
    "df_tweets = pd.read_csv('data_tweet.csv', header = 0)\n",
    "df_tweets"
   ]
  },
  {
   "attachments": {},
   "cell_type": "markdown",
   "metadata": {},
   "source": [
    "## 2.2 Web scraping\n",
    "BeautifulSoup4 akan digunakan untuk melakukan web scraping. Web scraping akan dilakukan pada web Kompas.com dan mengambil judul berita pada 15 halaman pertama tentang topik terkait. Hasil judul berita dari web scraping akan disimpan pada DataFrame df_news."
   ]
  },
  {
   "cell_type": "code",
   "execution_count": 80,
   "metadata": {},
   "outputs": [],
   "source": [
    "# Mendefinisikan fungsi yang dapat melakukan web scraping pada google news dengan kata kunci \"sambo penjara seumur hidup\"\n",
    "def news(hal):\n",
    "    hasil = []\n",
    "    for page in range(1,hal):\n",
    "        url = f'https://www.detik.com/search/searchall?query=sambo+penjara+seumur+hidup&siteid=2&sortby=time&page={page}'\n",
    "        html = urlopen(url)\n",
    "        data = BeautifulSoup(html, 'html.parser')\n",
    "        table = data.findAll(\"div\", {\"class\":\"list media_rows list-berita\"})\n",
    "        for article in table:\n",
    "            articles = article.findAll(\"article\")\n",
    "            for span in articles:\n",
    "                spans = span.findAll(\"a\")\n",
    "                for box_text in spans:\n",
    "                    box_texts = box_text.findAll(\"span\", {\"class\":\"box_text\"})\n",
    "                    for title in box_texts:\n",
    "                        titles = title.find(\"h2\", {\"class\":\"title\"})\n",
    "                        hasil.append(titles.get_text())\n",
    "                    \n",
    "    df_news = pd.DataFrame(hasil, columns = [\"Judul Berita\"])\n",
    "    df_news.to_csv(\"data_berita.csv\",index=False)\n",
    "    return df_news"
   ]
  },
  {
   "cell_type": "code",
   "execution_count": 81,
   "metadata": {},
   "outputs": [
    {
     "data": {
      "text/html": [
       "<div>\n",
       "<style scoped>\n",
       "    .dataframe tbody tr th:only-of-type {\n",
       "        vertical-align: middle;\n",
       "    }\n",
       "\n",
       "    .dataframe tbody tr th {\n",
       "        vertical-align: top;\n",
       "    }\n",
       "\n",
       "    .dataframe thead th {\n",
       "        text-align: right;\n",
       "    }\n",
       "</style>\n",
       "<table border=\"1\" class=\"dataframe\">\n",
       "  <thead>\n",
       "    <tr style=\"text-align: right;\">\n",
       "      <th></th>\n",
       "      <th>Judul Berita</th>\n",
       "    </tr>\n",
       "  </thead>\n",
       "  <tbody>\n",
       "    <tr>\n",
       "      <th>0</th>\n",
       "      <td>Sambo Minta Dibebaskan dari Segala Dakwaan dan...</td>\n",
       "    </tr>\n",
       "    <tr>\n",
       "      <th>1</th>\n",
       "      <td>Ferdy Sambo Minta Dibebaskan di Kasus Pembunuh...</td>\n",
       "    </tr>\n",
       "    <tr>\n",
       "      <th>2</th>\n",
       "      <td>Pengacara Sambo Nilai Jaksa Gagal Tunjukkan Mo...</td>\n",
       "    </tr>\n",
       "    <tr>\n",
       "      <th>3</th>\n",
       "      <td>Curhat Sambo Lewat Pleidoi: Dituduh Bandar Jud...</td>\n",
       "    </tr>\n",
       "    <tr>\n",
       "      <th>4</th>\n",
       "      <td>Sambo Kutip Ayat Alkitab di Pleidoi: Kiranya T...</td>\n",
       "    </tr>\n",
       "    <tr>\n",
       "      <th>...</th>\n",
       "      <td>...</td>\n",
       "    </tr>\n",
       "    <tr>\n",
       "      <th>121</th>\n",
       "      <td>Teks Editorial: Pengertian, Struktur, Ciri dan...</td>\n",
       "    </tr>\n",
       "    <tr>\n",
       "      <th>122</th>\n",
       "      <td>Tangis Putri Candrawathi Saat Telepon Ferdy Sa...</td>\n",
       "    </tr>\n",
       "    <tr>\n",
       "      <th>123</th>\n",
       "      <td>Ahli Pidana UISU Percaya JPU Akan Tuntut Ferdy...</td>\n",
       "    </tr>\n",
       "    <tr>\n",
       "      <th>124</th>\n",
       "      <td>10 Kesaksian Bripka RR Sebelum Insiden Berdara...</td>\n",
       "    </tr>\n",
       "    <tr>\n",
       "      <th>125</th>\n",
       "      <td>2 Status Tersangka Ferdy Sambo dalam Kasus Pem...</td>\n",
       "    </tr>\n",
       "  </tbody>\n",
       "</table>\n",
       "<p>126 rows × 1 columns</p>\n",
       "</div>"
      ],
      "text/plain": [
       "                                          Judul Berita\n",
       "0    Sambo Minta Dibebaskan dari Segala Dakwaan dan...\n",
       "1    Ferdy Sambo Minta Dibebaskan di Kasus Pembunuh...\n",
       "2    Pengacara Sambo Nilai Jaksa Gagal Tunjukkan Mo...\n",
       "3    Curhat Sambo Lewat Pleidoi: Dituduh Bandar Jud...\n",
       "4    Sambo Kutip Ayat Alkitab di Pleidoi: Kiranya T...\n",
       "..                                                 ...\n",
       "121  Teks Editorial: Pengertian, Struktur, Ciri dan...\n",
       "122  Tangis Putri Candrawathi Saat Telepon Ferdy Sa...\n",
       "123  Ahli Pidana UISU Percaya JPU Akan Tuntut Ferdy...\n",
       "124  10 Kesaksian Bripka RR Sebelum Insiden Berdara...\n",
       "125  2 Status Tersangka Ferdy Sambo dalam Kasus Pem...\n",
       "\n",
       "[126 rows x 1 columns]"
      ]
     },
     "execution_count": 81,
     "metadata": {},
     "output_type": "execute_result"
    }
   ],
   "source": [
    "# Web scraping hingga 15 halaman pertama pada detik.com\n",
    "news(15)"
   ]
  },
  {
   "cell_type": "code",
   "execution_count": 82,
   "metadata": {},
   "outputs": [
    {
     "data": {
      "text/html": [
       "<div>\n",
       "<style scoped>\n",
       "    .dataframe tbody tr th:only-of-type {\n",
       "        vertical-align: middle;\n",
       "    }\n",
       "\n",
       "    .dataframe tbody tr th {\n",
       "        vertical-align: top;\n",
       "    }\n",
       "\n",
       "    .dataframe thead th {\n",
       "        text-align: right;\n",
       "    }\n",
       "</style>\n",
       "<table border=\"1\" class=\"dataframe\">\n",
       "  <thead>\n",
       "    <tr style=\"text-align: right;\">\n",
       "      <th></th>\n",
       "      <th>Judul Berita</th>\n",
       "    </tr>\n",
       "  </thead>\n",
       "  <tbody>\n",
       "    <tr>\n",
       "      <th>0</th>\n",
       "      <td>Sambo Minta Dibebaskan dari Segala Dakwaan dan...</td>\n",
       "    </tr>\n",
       "    <tr>\n",
       "      <th>1</th>\n",
       "      <td>Ferdy Sambo Minta Dibebaskan di Kasus Pembunuh...</td>\n",
       "    </tr>\n",
       "    <tr>\n",
       "      <th>2</th>\n",
       "      <td>Pengacara Sambo Nilai Jaksa Gagal Tunjukkan Mo...</td>\n",
       "    </tr>\n",
       "    <tr>\n",
       "      <th>3</th>\n",
       "      <td>Curhat Sambo Lewat Pleidoi: Dituduh Bandar Jud...</td>\n",
       "    </tr>\n",
       "    <tr>\n",
       "      <th>4</th>\n",
       "      <td>Sambo Kutip Ayat Alkitab di Pleidoi: Kiranya T...</td>\n",
       "    </tr>\n",
       "    <tr>\n",
       "      <th>...</th>\n",
       "      <td>...</td>\n",
       "    </tr>\n",
       "    <tr>\n",
       "      <th>121</th>\n",
       "      <td>Teks Editorial: Pengertian, Struktur, Ciri dan...</td>\n",
       "    </tr>\n",
       "    <tr>\n",
       "      <th>122</th>\n",
       "      <td>Tangis Putri Candrawathi Saat Telepon Ferdy Sa...</td>\n",
       "    </tr>\n",
       "    <tr>\n",
       "      <th>123</th>\n",
       "      <td>Ahli Pidana UISU Percaya JPU Akan Tuntut Ferdy...</td>\n",
       "    </tr>\n",
       "    <tr>\n",
       "      <th>124</th>\n",
       "      <td>10 Kesaksian Bripka RR Sebelum Insiden Berdara...</td>\n",
       "    </tr>\n",
       "    <tr>\n",
       "      <th>125</th>\n",
       "      <td>2 Status Tersangka Ferdy Sambo dalam Kasus Pem...</td>\n",
       "    </tr>\n",
       "  </tbody>\n",
       "</table>\n",
       "<p>126 rows × 1 columns</p>\n",
       "</div>"
      ],
      "text/plain": [
       "                                          Judul Berita\n",
       "0    Sambo Minta Dibebaskan dari Segala Dakwaan dan...\n",
       "1    Ferdy Sambo Minta Dibebaskan di Kasus Pembunuh...\n",
       "2    Pengacara Sambo Nilai Jaksa Gagal Tunjukkan Mo...\n",
       "3    Curhat Sambo Lewat Pleidoi: Dituduh Bandar Jud...\n",
       "4    Sambo Kutip Ayat Alkitab di Pleidoi: Kiranya T...\n",
       "..                                                 ...\n",
       "121  Teks Editorial: Pengertian, Struktur, Ciri dan...\n",
       "122  Tangis Putri Candrawathi Saat Telepon Ferdy Sa...\n",
       "123  Ahli Pidana UISU Percaya JPU Akan Tuntut Ferdy...\n",
       "124  10 Kesaksian Bripka RR Sebelum Insiden Berdara...\n",
       "125  2 Status Tersangka Ferdy Sambo dalam Kasus Pem...\n",
       "\n",
       "[126 rows x 1 columns]"
      ]
     },
     "execution_count": 82,
     "metadata": {},
     "output_type": "execute_result"
    }
   ],
   "source": [
    "df_news = pd.read_csv('data_berita.csv', header = 0)\n",
    "df_news"
   ]
  },
  {
   "attachments": {},
   "cell_type": "markdown",
   "metadata": {},
   "source": [
    "# 3. Data Cleaning \n",
    "\n",
    "Data cleaning secara umum akan melalui beberapa tahap yaitu Case Folding, Stopwords,Word Stemming, dan penghapusan duplikat. \n",
    "Penghapusan duplikat dilakukan karena banyak sekali tweet yang berulang-ulang (spam tweet) sehingga akan menyulitkan untuk melakukan analisis sentimen nantinya."
   ]
  },
  {
   "attachments": {},
   "cell_type": "markdown",
   "metadata": {},
   "source": [
    "## 3.1 Data Cleaning pada DataFrame Tweet"
   ]
  },
  {
   "cell_type": "code",
   "execution_count": 83,
   "metadata": {},
   "outputs": [
    {
     "name": "stdout",
     "output_type": "stream",
     "text": [
      "                                                 tweets  \\\n",
      "0     Vonis hukuman penjara seumur hidup berarti sam...   \n",
      "1     @asumsico penjara seumur hidup,... \\n\\ns&amp;k...   \n",
      "2     JPU telah menuntut hukuman pada masing2 terdak...   \n",
      "3     @convomf Iya deh gue bingung. Dr gue msh cimit...   \n",
      "4     Punya pundi² seratus triliun rupiah itu bisa b...   \n",
      "...                                                 ...   \n",
      "1926  Infonya Penjahat macam LE di Penjara Seumur hi...   \n",
      "1927  Infonya Penjahat macam LE di Penjara Seumur hi...   \n",
      "1928  Infonya Penjahat macam LE di Penjara Seumur hi...   \n",
      "1929                  @TRANS7 Penjara saja seumur hidup   \n",
      "1930  @msaid_didu Jgn selalu menyalahkan pemerintah ...   \n",
      "\n",
      "                                           clean_tweets  \n",
      "0                        vonis hukum arti sampe mati ya  \n",
      "1                                   asumsico sampk laku  \n",
      "2     jpu tuntut hukum dakwa bunuh rencana j fs pc r...  \n",
      "3     convomf iya deh gue bingung dr gue msh cimit c...  \n",
      "4     pundi ratus triliun rupiah beli beli kepala ba...  \n",
      "...                                                 ...  \n",
      "1926  info jahat le rakyatpapuadukungpenjarakanlukas...  \n",
      "1927  info jahat le rakyatpapuadukungpenjarakanlukas...  \n",
      "1928  info jahat le papua rugi ulah gubernur rakyatp...  \n",
      "1929                                              trans  \n",
      "1930  msaiddidu jgn salah perintah tua beda fungsi w...  \n",
      "\n",
      "[1916 rows x 2 columns]\n"
     ]
    }
   ],
   "source": [
    "# text cleaning(lowercase,angka,tanda baca,tautan, whitespace)\n",
    "def cleaning(x):\n",
    "    x = x.lower().translate(str.maketrans('','',string.digits)).translate(str.maketrans(\"\",\"\",string.punctuation)).strip()\n",
    "    return x\n",
    "\n",
    "df_tweets['clean_tweets'] = df_tweets['tweets'].map(cleaning)\n",
    "\n",
    "# Stemmer\n",
    "stemmer = StemmerFactory().create_stemmer()\n",
    "def stemming(x):\n",
    "    x = stemmer.stem(x)\n",
    "    return x\n",
    "df_tweets['clean_tweets'] = df_tweets['clean_tweets'].map(stemming)\n",
    "\n",
    "# Stopwords\n",
    "stop = stopwords.words('indonesian')+['m','di','yg']+['penjara','umur','hidup','sambo','ferdy','brigadir']\n",
    "def filter_stopwords(x):\n",
    "    x = [word for word in x.split() if word not in stop]\n",
    "    x = ' '.join(x)\n",
    "    return x\n",
    "df_tweets['clean_tweets'] = df_tweets['clean_tweets'].map(filter_stopwords)\n",
    "\n",
    "\n",
    "#Drop Duplicates\n",
    "df_tweets.drop_duplicates(subset =\"clean_tweets\",\n",
    "                     keep = False, inplace = True)\n",
    "\n",
    "print(df_tweets)"
   ]
  },
  {
   "cell_type": "code",
   "execution_count": 84,
   "metadata": {},
   "outputs": [
    {
     "data": {
      "text/html": [
       "<div>\n",
       "<style scoped>\n",
       "    .dataframe tbody tr th:only-of-type {\n",
       "        vertical-align: middle;\n",
       "    }\n",
       "\n",
       "    .dataframe tbody tr th {\n",
       "        vertical-align: top;\n",
       "    }\n",
       "\n",
       "    .dataframe thead th {\n",
       "        text-align: right;\n",
       "    }\n",
       "</style>\n",
       "<table border=\"1\" class=\"dataframe\">\n",
       "  <thead>\n",
       "    <tr style=\"text-align: right;\">\n",
       "      <th></th>\n",
       "      <th>tweets</th>\n",
       "      <th>clean_tweets</th>\n",
       "    </tr>\n",
       "  </thead>\n",
       "  <tbody>\n",
       "    <tr>\n",
       "      <th>0</th>\n",
       "      <td>Vonis hukuman penjara seumur hidup berarti sam...</td>\n",
       "      <td>vonis hukum arti sampe mati ya</td>\n",
       "    </tr>\n",
       "    <tr>\n",
       "      <th>1</th>\n",
       "      <td>@asumsico penjara seumur hidup,... \\n\\ns&amp;amp;k...</td>\n",
       "      <td>asumsico sampk laku</td>\n",
       "    </tr>\n",
       "    <tr>\n",
       "      <th>2</th>\n",
       "      <td>JPU telah menuntut hukuman pada masing2 terdak...</td>\n",
       "      <td>jpu tuntut hukum dakwa bunuh rencana j fs pc r...</td>\n",
       "    </tr>\n",
       "    <tr>\n",
       "      <th>3</th>\n",
       "      <td>@convomf Iya deh gue bingung. Dr gue msh cimit...</td>\n",
       "      <td>convomf iya deh gue bingung dr gue msh cimit c...</td>\n",
       "    </tr>\n",
       "    <tr>\n",
       "      <th>4</th>\n",
       "      <td>Punya pundi² seratus triliun rupiah itu bisa b...</td>\n",
       "      <td>pundi ratus triliun rupiah beli beli kepala ba...</td>\n",
       "    </tr>\n",
       "    <tr>\n",
       "      <th>...</th>\n",
       "      <td>...</td>\n",
       "      <td>...</td>\n",
       "    </tr>\n",
       "    <tr>\n",
       "      <th>1911</th>\n",
       "      <td>Infonya Penjahat macam LE di Penjara Seumur hi...</td>\n",
       "      <td>info jahat le rakyatpapuadukungpenjarakanlukas...</td>\n",
       "    </tr>\n",
       "    <tr>\n",
       "      <th>1912</th>\n",
       "      <td>Infonya Penjahat macam LE di Penjara Seumur hi...</td>\n",
       "      <td>info jahat le rakyatpapuadukungpenjarakanlukas...</td>\n",
       "    </tr>\n",
       "    <tr>\n",
       "      <th>1913</th>\n",
       "      <td>Infonya Penjahat macam LE di Penjara Seumur hi...</td>\n",
       "      <td>info jahat le papua rugi ulah gubernur rakyatp...</td>\n",
       "    </tr>\n",
       "    <tr>\n",
       "      <th>1914</th>\n",
       "      <td>@TRANS7 Penjara saja seumur hidup</td>\n",
       "      <td>trans</td>\n",
       "    </tr>\n",
       "    <tr>\n",
       "      <th>1915</th>\n",
       "      <td>@msaid_didu Jgn selalu menyalahkan pemerintah ...</td>\n",
       "      <td>msaiddidu jgn salah perintah tua beda fungsi w...</td>\n",
       "    </tr>\n",
       "  </tbody>\n",
       "</table>\n",
       "<p>1916 rows × 2 columns</p>\n",
       "</div>"
      ],
      "text/plain": [
       "                                                 tweets  \\\n",
       "0     Vonis hukuman penjara seumur hidup berarti sam...   \n",
       "1     @asumsico penjara seumur hidup,... \\n\\ns&amp;k...   \n",
       "2     JPU telah menuntut hukuman pada masing2 terdak...   \n",
       "3     @convomf Iya deh gue bingung. Dr gue msh cimit...   \n",
       "4     Punya pundi² seratus triliun rupiah itu bisa b...   \n",
       "...                                                 ...   \n",
       "1911  Infonya Penjahat macam LE di Penjara Seumur hi...   \n",
       "1912  Infonya Penjahat macam LE di Penjara Seumur hi...   \n",
       "1913  Infonya Penjahat macam LE di Penjara Seumur hi...   \n",
       "1914                  @TRANS7 Penjara saja seumur hidup   \n",
       "1915  @msaid_didu Jgn selalu menyalahkan pemerintah ...   \n",
       "\n",
       "                                           clean_tweets  \n",
       "0                        vonis hukum arti sampe mati ya  \n",
       "1                                   asumsico sampk laku  \n",
       "2     jpu tuntut hukum dakwa bunuh rencana j fs pc r...  \n",
       "3     convomf iya deh gue bingung dr gue msh cimit c...  \n",
       "4     pundi ratus triliun rupiah beli beli kepala ba...  \n",
       "...                                                 ...  \n",
       "1911  info jahat le rakyatpapuadukungpenjarakanlukas...  \n",
       "1912  info jahat le rakyatpapuadukungpenjarakanlukas...  \n",
       "1913  info jahat le papua rugi ulah gubernur rakyatp...  \n",
       "1914                                              trans  \n",
       "1915  msaiddidu jgn salah perintah tua beda fungsi w...  \n",
       "\n",
       "[1916 rows x 2 columns]"
      ]
     },
     "execution_count": 84,
     "metadata": {},
     "output_type": "execute_result"
    }
   ],
   "source": [
    "df_tweets = df_tweets.reset_index(drop=True)\n",
    "df_tweets"
   ]
  },
  {
   "attachments": {},
   "cell_type": "markdown",
   "metadata": {},
   "source": [
    "# 3.2 Data Cleaning pada DataFrame Berita"
   ]
  },
  {
   "cell_type": "code",
   "execution_count": 85,
   "metadata": {},
   "outputs": [
    {
     "name": "stdout",
     "output_type": "stream",
     "text": [
      "                                          Judul Berita  \\\n",
      "0    Sambo Minta Dibebaskan dari Segala Dakwaan dan...   \n",
      "1    Ferdy Sambo Minta Dibebaskan di Kasus Pembunuh...   \n",
      "2    Pengacara Sambo Nilai Jaksa Gagal Tunjukkan Mo...   \n",
      "4    Sambo Kutip Ayat Alkitab di Pleidoi: Kiranya T...   \n",
      "5    Sambo: Tak Terbayang, Hidup Saya Terhormat dal...   \n",
      "..                                                 ...   \n",
      "121  Teks Editorial: Pengertian, Struktur, Ciri dan...   \n",
      "122  Tangis Putri Candrawathi Saat Telepon Ferdy Sa...   \n",
      "123  Ahli Pidana UISU Percaya JPU Akan Tuntut Ferdy...   \n",
      "124  10 Kesaksian Bripka RR Sebelum Insiden Berdara...   \n",
      "125  2 Status Tersangka Ferdy Sambo dalam Kasus Pem...   \n",
      "\n",
      "                                            clean_news  \n",
      "0                                   bebas dakwa tuntut  \n",
      "1                                    bebas bunuh yosua  \n",
      "2            acara nilai jaksa gagal motif bunuh yosua  \n",
      "4               kutip ayat alkitab pleidoi tuhan tobat  \n",
      "5                  bayang hormat kejap perosok nestapa  \n",
      "..                                                 ...  \n",
      "121  teks editorial erti struktur ciri contoh mudah...  \n",
      "122         tangis putri candrawathi telepon adu leceh  \n",
      "123     ahli pidana uisu percaya jpu tuntut hukum mati  \n",
      "124                saksi bripka rr insiden darah yosua  \n",
      "125                          status sangka bunuh yosua  \n",
      "\n",
      "[114 rows x 2 columns]\n"
     ]
    }
   ],
   "source": [
    "df_news['clean_news'] = df_news['Judul Berita'].map(cleaning)\n",
    "df_news['clean_news'] = df_news['clean_news'].map(stemming)\n",
    "df_news['clean_news'] = df_news['clean_news'].map(filter_stopwords)\n",
    "df_news.drop_duplicates(subset =\"clean_news\",\n",
    "                     keep = False, inplace = True)\n",
    "\n",
    "print(df_news)"
   ]
  },
  {
   "attachments": {},
   "cell_type": "markdown",
   "metadata": {},
   "source": [
    "# 4. Data Processing"
   ]
  },
  {
   "attachments": {},
   "cell_type": "markdown",
   "metadata": {},
   "source": [
    "## 4.1 Distribusi frekuensi karakter per tweet"
   ]
  },
  {
   "cell_type": "code",
   "execution_count": 86,
   "metadata": {},
   "outputs": [
    {
     "data": {
      "image/png": "[encoded data removed]",
      "text/plain": [
       "<Figure size 432x288 with 1 Axes>"
      ]
     },
     "metadata": {
      "needs_background": "light"
     },
     "output_type": "display_data"
    }
   ],
   "source": [
    "bin_range = np.arange(0, 300, 10)\n",
    "df_tweets['clean_tweets'].str.len().hist(bins=bin_range)\n",
    "plt.title('Distribusi frekuensi karakter per tweet')\n",
    "plt.show()"
   ]
  },
  {
   "attachments": {},
   "cell_type": "markdown",
   "metadata": {},
   "source": [
    "banyaknya karakter per tweet kebanyakan berisi 30-80 karakter per tweet"
   ]
  },
  {
   "attachments": {},
   "cell_type": "markdown",
   "metadata": {},
   "source": [
    "## 4.2 Distribusi panjang kata per tweet"
   ]
  },
  {
   "cell_type": "code",
   "execution_count": 87,
   "metadata": {},
   "outputs": [
    {
     "data": {
      "image/png": "[encoded data removed]",
      "text/plain": [
       "<Figure size 432x288 with 1 Axes>"
      ]
     },
     "metadata": {
      "needs_background": "light"
     },
     "output_type": "display_data"
    }
   ],
   "source": [
    "bin_range = np.arange(0, 60)\n",
    "df_tweets['clean_tweets'].str.split().map(lambda x: len(x)).hist(bins=bin_range)\n",
    "plt.title('Distribusi panjang kata per tweet')\n",
    "plt.show()"
   ]
  },
  {
   "attachments": {},
   "cell_type": "markdown",
   "metadata": {},
   "source": [
    "panjang kata per tweet rata2 pada 3-9 kata per twwet"
   ]
  },
  {
   "attachments": {},
   "cell_type": "markdown",
   "metadata": {},
   "source": [
    "## 4.3 Distribusi panjang rata-rata kata per tweet"
   ]
  },
  {
   "cell_type": "code",
   "execution_count": 88,
   "metadata": {},
   "outputs": [
    {
     "name": "stderr",
     "output_type": "stream",
     "text": [
      "c:\\Users\\asus\\anaconda3\\lib\\site-packages\\numpy\\core\\fromnumeric.py:3419: RuntimeWarning: Mean of empty slice.\n",
      "  return _methods._mean(a, axis=axis, dtype=dtype,\n",
      "c:\\Users\\asus\\anaconda3\\lib\\site-packages\\numpy\\core\\_methods.py:188: RuntimeWarning: invalid value encountered in double_scalars\n",
      "  ret = ret.dtype.type(ret / rcount)\n"
     ]
    },
    {
     "data": {
      "image/png": "[encoded data removed]",
      "text/plain": [
       "<Figure size 432x288 with 1 Axes>"
      ]
     },
     "metadata": {
      "needs_background": "light"
     },
     "output_type": "display_data"
    }
   ],
   "source": [
    "df_tweets['clean_tweets'].str.split().apply(lambda x : [len(i) for i in x]).map(lambda x: np.mean(x)).hist()\n",
    "plt.show()"
   ]
  },
  {
   "attachments": {},
   "cell_type": "markdown",
   "metadata": {},
   "source": [
    "panjang rata2 kata per twwet yaitu 4-8 kata"
   ]
  },
  {
   "attachments": {},
   "cell_type": "markdown",
   "metadata": {},
   "source": [
    "## 4.4 Distribusi kata"
   ]
  },
  {
   "cell_type": "code",
   "execution_count": 89,
   "metadata": {},
   "outputs": [
    {
     "name": "stdout",
     "output_type": "stream",
     "text": [
      "<FreqDist with 4978 samples and 22500 outcomes>\n",
      "[('tuntut', 1215), ('hukum', 895), ('mati', 469), ('jaksa', 358), ('bunuh', 351), ('pidana', 287), ('sesuai', 237), ('ya', 234), ('yosua', 234), ('jpu', 219), ('gak', 217), ('j', 212), ('kuhp', 186), ('rencana', 174), ('dakwa', 147), ('kalo', 143), ('sampe', 131), ('vonis', 129), ('hutabarat', 128), ('laku', 122)]\n"
     ]
    },
    {
     "data": {
      "image/png": "[encoded data removed]",
      "text/plain": [
       "<Figure size 432x288 with 1 Axes>"
      ]
     },
     "metadata": {
      "needs_background": "light"
     },
     "output_type": "display_data"
    }
   ],
   "source": [
    "tweets_token = [word for tweet in df_tweets['clean_tweets'].apply(lambda x: word_tokenize(str(x))) for word in tweet]\n",
    "fqdist = FreqDist(tweets_token)\n",
    "print(fqdist)\n",
    "most_common_word = fqdist.most_common(20)\n",
    "print(most_common_word)\n",
    "fqdist.plot(20,cumulative=False)\n",
    "plt.show()"
   ]
  },
  {
   "attachments": {},
   "cell_type": "markdown",
   "metadata": {},
   "source": [
    "Dari distribusi kata yang muncul yaitu tuntut, hukum, ferdy, mati, dan jaksa merupakan 5 kata yang paling sering muncul. Hal ini karena isu terkait kasus tersebut yang sedang hangat dibahas yaitu terkait tuntutan hukuman mati atas terdakwa ferdy sambo. "
   ]
  },
  {
   "attachments": {},
   "cell_type": "markdown",
   "metadata": {},
   "source": [
    "## 4.5 N-gram \n",
    "\n",
    "Distribusi N-gram dengan 2 sampai 4 kata akan dilakukan untuk mengetahui frasa yang sering muncul pada data tweet yang dikumpulkan."
   ]
  },
  {
   "cell_type": "code",
   "execution_count": 90,
   "metadata": {},
   "outputs": [
    {
     "data": {
      "text/plain": [
       "(tuntut, hukum)       251\n",
       "(hukum, mati)         196\n",
       "(jaksa, tuntut)       176\n",
       "(bunuh, rencana)      155\n",
       "(tuntut, jpu)         125\n",
       "(yosua, hutabarat)     95\n",
       "(jpu, tuntut)          95\n",
       "(tuntut, jaksa)        89\n",
       "(bunuh, yosua)         79\n",
       "(tuntut, bunuh)        76\n",
       "dtype: int64"
      ]
     },
     "execution_count": 90,
     "metadata": {},
     "output_type": "execute_result"
    }
   ],
   "source": [
    "# N gram 2 kata\n",
    "pd.Series(nltk.ngrams(tweets_token, 2)).value_counts()[:10]"
   ]
  },
  {
   "cell_type": "code",
   "execution_count": 91,
   "metadata": {},
   "outputs": [
    {
     "data": {
      "text/plain": [
       "(jaksa, tuntut, jpu)             82\n",
       "(nih, dijelasin, kejaksaanri)    66\n",
       "(gak, hubung, dgn)               62\n",
       "(sesuai, mitossalah, kaprah)     62\n",
       "(mitossalah, kaprah, gak)        61\n",
       "(kaprah, gak, kuhp)              61\n",
       "(mati, gak, hubung)              60\n",
       "(hubung, dgn, sesuai)            60\n",
       "(dgn, sesuai, mitossalah)        60\n",
       "(definisi, mati, gak)            56\n",
       "dtype: int64"
      ]
     },
     "execution_count": 91,
     "metadata": {},
     "output_type": "execute_result"
    }
   ],
   "source": [
    "# N gram 3 kata\n",
    "pd.Series(nltk.ngrams(tweets_token, 3)).value_counts()[:10]"
   ]
  },
  {
   "cell_type": "code",
   "execution_count": 92,
   "metadata": {},
   "outputs": [
    {
     "data": {
      "text/plain": [
       "(mitossalah, kaprah, gak, kuhp)        61\n",
       "(sesuai, mitossalah, kaprah, gak)      61\n",
       "(gak, hubung, dgn, sesuai)             60\n",
       "(dgn, sesuai, mitossalah, kaprah)      60\n",
       "(hubung, dgn, sesuai, mitossalah)      60\n",
       "(mati, gak, hubung, dgn)               59\n",
       "(definisi, mati, gak, hubung)          56\n",
       "(kuhp, indonesia, definisi, mati)      53\n",
       "(indonesia, definisi, mati, gak)       52\n",
       "(kuhp, nih, dijelasin, kejaksaanri)    49\n",
       "dtype: int64"
      ]
     },
     "execution_count": 92,
     "metadata": {},
     "output_type": "execute_result"
    }
   ],
   "source": [
    "# N gram 4 kata\n",
    "pd.Series(nltk.ngrams(tweets_token, 4)).value_counts()[:10]"
   ]
  },
  {
   "attachments": {},
   "cell_type": "markdown",
   "metadata": {},
   "source": [
    "## 4.6 Sentiment Analysis "
   ]
  },
  {
   "cell_type": "code",
   "execution_count": 93,
   "metadata": {},
   "outputs": [],
   "source": [
    "# Membuka kamus kata-kata yang positif dan kata-kata yang negatif\n",
    "with open(\"./kata_positif.txt\",\"r\") as positif_file :\n",
    "  positive_words = list(set(positif_file.readlines()))\n",
    "with open(\"./kata_negatif.txt\",\"r\") as negative_file :\n",
    "  negative_words = list(set(negative_file.readlines()))"
   ]
  },
  {
   "cell_type": "code",
   "execution_count": 94,
   "metadata": {},
   "outputs": [],
   "source": [
    "# Melakukan analisis sentimen terhadap suatu tweet berdasarkan jumlah kata positif dan negatif yang ada di tweet\n",
    "hasil = []\n",
    "tweets = df_tweets['clean_tweets']\n",
    "for tweet in tweets:\n",
    "\n",
    "    tweet_clean = tweet.strip().split()\n",
    "    \n",
    "    good_count = 0 #nilai positif\n",
    "    bad_count = 0 #nilai negatif\n",
    "\n",
    "    for good_word in positive_words:\n",
    "        count = tweet_clean.count(good_word.strip().lower())\n",
    "        if count > 0:\n",
    "          good_count += count\n",
    "\n",
    "    for bad_word in negative_words:\n",
    "        count = tweet_clean.count(bad_word.strip().lower())\n",
    "        if count > 0:\n",
    "          bad_count += count\n",
    "    \n",
    "    hasil.append(good_count - bad_count)\n",
    "    "
   ]
  },
  {
   "cell_type": "code",
   "execution_count": 95,
   "metadata": {},
   "outputs": [],
   "source": [
    "sentiments = [\"positif\" if sentimen > 0 else (\"netral\" if sentimen == 0 else \"negatif\") for sentimen in hasil]\n",
    "df_tweets[\"sentiment\"] = sentiments"
   ]
  },
  {
   "cell_type": "code",
   "execution_count": 96,
   "metadata": {},
   "outputs": [
    {
     "name": "stdout",
     "output_type": "stream",
     "text": [
      "\n",
      "Mean: -0.3903966597077244\n",
      "Median: 0.0\n",
      "quartil awal: -1.0\n",
      "quartil akhir: 0.0\n",
      "Standar deviasi: 1.2429305936435662     \n",
      "\n"
     ]
    }
   ],
   "source": [
    "print (f'''\n",
    "Mean: {np.mean(hasil)}\n",
    "Median: {np.median(hasil)}\n",
    "quartil awal: {np.quantile(hasil,0.25)}\n",
    "quartil akhir: {np.quantile(hasil,0.75)}\n",
    "Standar deviasi: {np.std(hasil)}     \n",
    "''')"
   ]
  },
  {
   "cell_type": "code",
   "execution_count": 97,
   "metadata": {},
   "outputs": [
    {
     "data": {
      "image/png": "[encoded data removed]",
      "text/plain": [
       "<Figure size 432x288 with 1 Axes>"
      ]
     },
     "metadata": {
      "needs_background": "light"
     },
     "output_type": "display_data"
    }
   ],
   "source": [
    "c = Counter(hasil)\n",
    "\n",
    "plt.bar(c.keys(), c.values())\n",
    "plt.title(f'Sentiment Distribution')\n",
    "plt.xlabel('Labels')\n",
    "plt.ylabel('Counts')\n",
    "plt.xlim([-10, 10])\n",
    "plt.xticks(np.arange(-10, 11, 1.0))\n",
    "plt.show()"
   ]
  },
  {
   "cell_type": "code",
   "execution_count": 98,
   "metadata": {},
   "outputs": [
    {
     "data": {
      "text/html": [
       "<div>\n",
       "<style scoped>\n",
       "    .dataframe tbody tr th:only-of-type {\n",
       "        vertical-align: middle;\n",
       "    }\n",
       "\n",
       "    .dataframe tbody tr th {\n",
       "        vertical-align: top;\n",
       "    }\n",
       "\n",
       "    .dataframe thead th {\n",
       "        text-align: right;\n",
       "    }\n",
       "</style>\n",
       "<table border=\"1\" class=\"dataframe\">\n",
       "  <thead>\n",
       "    <tr style=\"text-align: right;\">\n",
       "      <th></th>\n",
       "      <th>tweets</th>\n",
       "      <th>clean_tweets</th>\n",
       "      <th>sentiment</th>\n",
       "    </tr>\n",
       "  </thead>\n",
       "  <tbody>\n",
       "    <tr>\n",
       "      <th>0</th>\n",
       "      <td>Vonis hukuman penjara seumur hidup berarti sam...</td>\n",
       "      <td>vonis hukum arti sampe mati ya</td>\n",
       "      <td>netral</td>\n",
       "    </tr>\n",
       "    <tr>\n",
       "      <th>1</th>\n",
       "      <td>@asumsico penjara seumur hidup,... \\n\\ns&amp;amp;k...</td>\n",
       "      <td>asumsico sampk laku</td>\n",
       "      <td>netral</td>\n",
       "    </tr>\n",
       "    <tr>\n",
       "      <th>2</th>\n",
       "      <td>JPU telah menuntut hukuman pada masing2 terdak...</td>\n",
       "      <td>jpu tuntut hukum dakwa bunuh rencana j fs pc r...</td>\n",
       "      <td>negatif</td>\n",
       "    </tr>\n",
       "    <tr>\n",
       "      <th>3</th>\n",
       "      <td>@convomf Iya deh gue bingung. Dr gue msh cimit...</td>\n",
       "      <td>convomf iya deh gue bingung dr gue msh cimit c...</td>\n",
       "      <td>negatif</td>\n",
       "    </tr>\n",
       "    <tr>\n",
       "      <th>4</th>\n",
       "      <td>Punya pundi² seratus triliun rupiah itu bisa b...</td>\n",
       "      <td>pundi ratus triliun rupiah beli beli kepala ba...</td>\n",
       "      <td>negatif</td>\n",
       "    </tr>\n",
       "    <tr>\n",
       "      <th>...</th>\n",
       "      <td>...</td>\n",
       "      <td>...</td>\n",
       "      <td>...</td>\n",
       "    </tr>\n",
       "    <tr>\n",
       "      <th>1911</th>\n",
       "      <td>Infonya Penjahat macam LE di Penjara Seumur hi...</td>\n",
       "      <td>info jahat le rakyatpapuadukungpenjarakanlukas...</td>\n",
       "      <td>negatif</td>\n",
       "    </tr>\n",
       "    <tr>\n",
       "      <th>1912</th>\n",
       "      <td>Infonya Penjahat macam LE di Penjara Seumur hi...</td>\n",
       "      <td>info jahat le rakyatpapuadukungpenjarakanlukas...</td>\n",
       "      <td>negatif</td>\n",
       "    </tr>\n",
       "    <tr>\n",
       "      <th>1913</th>\n",
       "      <td>Infonya Penjahat macam LE di Penjara Seumur hi...</td>\n",
       "      <td>info jahat le papua rugi ulah gubernur rakyatp...</td>\n",
       "      <td>negatif</td>\n",
       "    </tr>\n",
       "    <tr>\n",
       "      <th>1914</th>\n",
       "      <td>@TRANS7 Penjara saja seumur hidup</td>\n",
       "      <td>trans</td>\n",
       "      <td>netral</td>\n",
       "    </tr>\n",
       "    <tr>\n",
       "      <th>1915</th>\n",
       "      <td>@msaid_didu Jgn selalu menyalahkan pemerintah ...</td>\n",
       "      <td>msaiddidu jgn salah perintah tua beda fungsi w...</td>\n",
       "      <td>negatif</td>\n",
       "    </tr>\n",
       "  </tbody>\n",
       "</table>\n",
       "<p>1916 rows × 3 columns</p>\n",
       "</div>"
      ],
      "text/plain": [
       "                                                 tweets  \\\n",
       "0     Vonis hukuman penjara seumur hidup berarti sam...   \n",
       "1     @asumsico penjara seumur hidup,... \\n\\ns&amp;k...   \n",
       "2     JPU telah menuntut hukuman pada masing2 terdak...   \n",
       "3     @convomf Iya deh gue bingung. Dr gue msh cimit...   \n",
       "4     Punya pundi² seratus triliun rupiah itu bisa b...   \n",
       "...                                                 ...   \n",
       "1911  Infonya Penjahat macam LE di Penjara Seumur hi...   \n",
       "1912  Infonya Penjahat macam LE di Penjara Seumur hi...   \n",
       "1913  Infonya Penjahat macam LE di Penjara Seumur hi...   \n",
       "1914                  @TRANS7 Penjara saja seumur hidup   \n",
       "1915  @msaid_didu Jgn selalu menyalahkan pemerintah ...   \n",
       "\n",
       "                                           clean_tweets sentiment  \n",
       "0                        vonis hukum arti sampe mati ya    netral  \n",
       "1                                   asumsico sampk laku    netral  \n",
       "2     jpu tuntut hukum dakwa bunuh rencana j fs pc r...   negatif  \n",
       "3     convomf iya deh gue bingung dr gue msh cimit c...   negatif  \n",
       "4     pundi ratus triliun rupiah beli beli kepala ba...   negatif  \n",
       "...                                                 ...       ...  \n",
       "1911  info jahat le rakyatpapuadukungpenjarakanlukas...   negatif  \n",
       "1912  info jahat le rakyatpapuadukungpenjarakanlukas...   negatif  \n",
       "1913  info jahat le papua rugi ulah gubernur rakyatp...   negatif  \n",
       "1914                                              trans    netral  \n",
       "1915  msaiddidu jgn salah perintah tua beda fungsi w...   negatif  \n",
       "\n",
       "[1916 rows x 3 columns]"
      ]
     },
     "execution_count": 98,
     "metadata": {},
     "output_type": "execute_result"
    }
   ],
   "source": [
    "df_tweets"
   ]
  },
  {
   "cell_type": "code",
   "execution_count": 99,
   "metadata": {},
   "outputs": [
    {
     "data": {
      "text/plain": [
       "netral     42.8%\n",
       "negatif    37.9%\n",
       "positif    19.2%\n",
       "Name: sentiment, dtype: object"
      ]
     },
     "execution_count": 99,
     "metadata": {},
     "output_type": "execute_result"
    }
   ],
   "source": [
    "df_tweets['sentiment'].value_counts(normalize=True).mul(100).round(1).astype(str) + '%'"
   ]
  },
  {
   "attachments": {},
   "cell_type": "markdown",
   "metadata": {},
   "source": [
    "Dari hasil sentimen analisis menggunakan kamus kata positif dan kata negatif, kebanyakan tweet memiliki sentimen netral namun cenderung lebih banyak yang mengarah ke sentimen negatif dibandingkan dengan sentimen positif. Dapat disimpulkan sentimen terkait isu tersebut adalah lebih ke negatif dan tidak baik."
   ]
  },
  {
   "attachments": {},
   "cell_type": "markdown",
   "metadata": {},
   "source": [
    "## 4.7 Topic analysis "
   ]
  },
  {
   "attachments": {},
   "cell_type": "markdown",
   "metadata": {},
   "source": [
    "Analisis topik akan dilakukan untuk mengetahui secara lebih spesifik topik-topik apa saja yang dibahas oleh warganet twitter terkait isu tuntutan hukuman mati kasus pembunuhan berencana Brigadir J.\n",
    "Dari hasil tuning dan optimasi dari parameter-parameter (alpha, beta, dan jumlah topik), didapat bahwa nilai yang optimum untuk masing-masing parameter adalah alpha = 0.9, beta = 0.01, dan jumlah topik sama dengan 5. Proses tuning ini tidak akan dimasukkan ke dalam file .ipynb ini karena akan memakan waktu yang lama."
   ]
  },
  {
   "cell_type": "code",
   "execution_count": 100,
   "metadata": {},
   "outputs": [
    {
     "name": "stdout",
     "output_type": "stream",
     "text": [
      "[(0,\n",
      "  '0.033*\"mati\" + 0.032*\"ya\" + 0.029*\"gak\" + 0.026*\"sesuai\" + 0.020*\"kuhp\" + '\n",
      "  '0.017*\"sampe\" + 0.013*\"indonesia\" + 0.012*\"dgn\" + 0.012*\"kalo\" + '\n",
      "  '0.012*\"nih\"'),\n",
      " (1,\n",
      "  '0.044*\"lukasenembekoruptor\" + 0.044*\"lukasenembepenjahatpolitik\" + '\n",
      "  '0.044*\"lukasenembepencuriuangrakyatpapua\" + '\n",
      "  '0.044*\"rakyatpapuadukungpenjarakanlukasenembe\" + '\n",
      "  '0.044*\"beritahoaxpasarsentani\" + 0.037*\"jahat\" + 0.037*\"info\" + 0.033*\"le\" '\n",
      "  '+ 0.008*\"si\" + 0.007*\"kena\"'),\n",
      " (2,\n",
      "  '0.054*\"hukum\" + 0.025*\"mati\" + 0.011*\"amp\" + 0.010*\"n\" + 0.009*\"jiwasraya\" '\n",
      "  '+ 0.008*\"kecewa\" + 0.008*\"nyawa\" + 0.008*\"moga\" + 0.007*\"jalan\" + '\n",
      "  '0.006*\"bs\"'),\n",
      " (3,\n",
      "  '0.140*\"tuntut\" + 0.043*\"jaksa\" + 0.043*\"bunuh\" + 0.037*\"hukum\" + '\n",
      "  '0.029*\"yosua\" + 0.026*\"j\" + 0.023*\"jpu\" + 0.022*\"rencana\" + '\n",
      "  '0.014*\"ferdysambo\" + 0.014*\"dakwa\"'),\n",
      " (4,\n",
      "  '0.047*\"hukum\" + 0.039*\"pidana\" + 0.037*\"vonis\" + 0.025*\"mati\" + 0.020*\"th\" '\n",
      "  '+ 0.018*\"pasal\" + 0.016*\"arti\" + 0.016*\"hakim\" + 0.015*\"remisi\" + '\n",
      "  '0.015*\"kuhp\"')]\n"
     ]
    }
   ],
   "source": [
    "#Text Modelling\n",
    "data_tweets = [tweet.split() for tweet in df_tweets[\"clean_tweets\"]]\n",
    "data_tweets\n",
    "dictionary = corpora.Dictionary(data_tweets)\n",
    "doc_term_matrix = [dictionary.doc2bow(doc) for doc in data_tweets]\n",
    "\n",
    "Lda = gensim.models.ldamodel.LdaModel\n",
    "ldamodel = Lda(\n",
    "    random_state=100,\n",
    "    chunksize=100,\n",
    "    per_word_topics=True,\n",
    "    corpus = doc_term_matrix, \n",
    "    num_topics=5, \n",
    "    id2word = dictionary, \n",
    "    passes=50\n",
    "    )\n",
    "\n",
    "pprint(ldamodel.print_topics())"
   ]
  },
  {
   "cell_type": "code",
   "execution_count": 101,
   "metadata": {},
   "outputs": [
    {
     "name": "stdout",
     "output_type": "stream",
     "text": [
      "\n",
      "Coherence Score:  0.479638709870995\n"
     ]
    }
   ],
   "source": [
    "coherence_model_lda = CoherenceModel(model=ldamodel, texts=data_tweets, dictionary=dictionary, coherence='c_v')\n",
    "coherence_lda = coherence_model_lda.get_coherence()\n",
    "print('\\nCoherence Score: ', coherence_lda)"
   ]
  },
  {
   "cell_type": "code",
   "execution_count": 102,
   "metadata": {},
   "outputs": [
    {
     "name": "stdout",
     "output_type": "stream",
     "text": [
      "[(0,\n",
      "  '0.056*\"mati\" + 0.045*\"gak\" + 0.042*\"kuhp\" + 0.033*\"sesuai\" + 0.026*\"hukum\" '\n",
      "  '+ 0.024*\"indonesia\" + 0.020*\"dgn\" + 0.019*\"nih\" + 0.018*\"kejaksaanri\" + '\n",
      "  '0.015*\"kaprah\"'),\n",
      " (1,\n",
      "  '0.071*\"tuntut\" + 0.043*\"hukum\" + 0.030*\"jaksa\" + 0.028*\"polri\" + '\n",
      "  '0.021*\"mantan\" + 0.017*\"propam\" + 0.015*\"kadiv\" + 0.014*\"ringan\" + '\n",
      "  '0.010*\"bunuh\" + 0.009*\"ga\"'),\n",
      " (2,\n",
      "  '0.076*\"hukum\" + 0.038*\"mati\" + 0.033*\"ya\" + 0.023*\"kalo\" + 0.019*\"pidana\" + '\n",
      "  '0.017*\"sampe\" + 0.017*\"arti\" + 0.015*\"sesuai\" + 0.012*\"tau\" + 0.012*\"usia\"'),\n",
      " (3,\n",
      "  '0.153*\"tuntut\" + 0.053*\"bunuh\" + 0.046*\"jaksa\" + 0.037*\"yosua\" + 0.033*\"j\" '\n",
      "  '+ 0.032*\"hukum\" + 0.029*\"rencana\" + 0.027*\"jpu\" + 0.020*\"hutabarat\" + '\n",
      "  '0.020*\"dakwa\"'),\n",
      " (4,\n",
      "  '0.042*\"hukum\" + 0.023*\"vonis\" + 0.019*\"pidana\" + 0.019*\"hakim\" + 0.019*\"th\" '\n",
      "  '+ 0.017*\"remisi\" + 0.016*\"mati\" + 0.014*\"tuntut\" + 0.012*\"nya\" + '\n",
      "  '0.011*\"fs\"')]\n"
     ]
    }
   ],
   "source": [
    "lda_model_2 = gensim.models.LdaMulticore(corpus=doc_term_matrix,\n",
    "                                           id2word=dictionary,\n",
    "                                           num_topics=5, \n",
    "                                           random_state=100,\n",
    "                                           chunksize=100,\n",
    "                                           passes=10,\n",
    "                                           alpha=0.9,\n",
    "                                           eta=0.01)\n",
    "\n",
    "pprint(lda_model_2.print_topics())"
   ]
  },
  {
   "attachments": {},
   "cell_type": "markdown",
   "metadata": {},
   "source": [
    "Beberapa topik yang dibahas dari data tweet adalah:\n",
    "1. hukuman penjara seumur hidup tidak sesuai untuk ferdy sambo, hukuman mati yang lebih sesuai.\n",
    "2. tutuan penjara seumur hidup bagi seorang kadiv propam polri yang melakukan pembunuhan dirasa tidak sesuai.\n",
    "3. seharusnya terdakwa dihukum mati, kalau seumur hidup bisa jadi mendapat keringanan lagi setelahnya.\n",
    "4. tuntutan terkait kasus pembunuhan brigadir j.\n",
    "5. jika divonis penjara seumur hidup ditakutkan nanti akan adanya remisi lagi, netizen menuntut hukuman mati kepada tersangka FS."
   ]
  },
  {
   "attachments": {},
   "cell_type": "markdown",
   "metadata": {},
   "source": [
    "## 4.8 Sentiment Analysis (Machine Learning)"
   ]
  },
  {
   "attachments": {},
   "cell_type": "markdown",
   "metadata": {},
   "source": [
    "Dalam melakukan sentiment analisis menggunakan machine learning, model ML akan menggunakan data dari analisis sentimen twitter sebagai data training dan test, lalu data judul berita sebagai data prediksi. Klasifikasi sentimen dari data tweet akan menggunakan sentimen yang didapat dari bagian 4.6 tentang analisis sentimen."
   ]
  },
  {
   "cell_type": "code",
   "execution_count": 103,
   "metadata": {},
   "outputs": [
    {
     "data": {
      "text/html": [
       "<div>\n",
       "<style scoped>\n",
       "    .dataframe tbody tr th:only-of-type {\n",
       "        vertical-align: middle;\n",
       "    }\n",
       "\n",
       "    .dataframe tbody tr th {\n",
       "        vertical-align: top;\n",
       "    }\n",
       "\n",
       "    .dataframe thead th {\n",
       "        text-align: right;\n",
       "    }\n",
       "</style>\n",
       "<table border=\"1\" class=\"dataframe\">\n",
       "  <thead>\n",
       "    <tr style=\"text-align: right;\">\n",
       "      <th></th>\n",
       "      <th>tweets</th>\n",
       "      <th>clean_tweets</th>\n",
       "      <th>sentiment</th>\n",
       "    </tr>\n",
       "  </thead>\n",
       "  <tbody>\n",
       "    <tr>\n",
       "      <th>0</th>\n",
       "      <td>Vonis hukuman penjara seumur hidup berarti sam...</td>\n",
       "      <td>vonis hukum arti sampe mati ya</td>\n",
       "      <td>0</td>\n",
       "    </tr>\n",
       "    <tr>\n",
       "      <th>1</th>\n",
       "      <td>@asumsico penjara seumur hidup,... \\n\\ns&amp;amp;k...</td>\n",
       "      <td>asumsico sampk laku</td>\n",
       "      <td>0</td>\n",
       "    </tr>\n",
       "    <tr>\n",
       "      <th>2</th>\n",
       "      <td>JPU telah menuntut hukuman pada masing2 terdak...</td>\n",
       "      <td>jpu tuntut hukum dakwa bunuh rencana j fs pc r...</td>\n",
       "      <td>-1</td>\n",
       "    </tr>\n",
       "    <tr>\n",
       "      <th>3</th>\n",
       "      <td>@convomf Iya deh gue bingung. Dr gue msh cimit...</td>\n",
       "      <td>convomf iya deh gue bingung dr gue msh cimit c...</td>\n",
       "      <td>-1</td>\n",
       "    </tr>\n",
       "    <tr>\n",
       "      <th>4</th>\n",
       "      <td>Punya pundi² seratus triliun rupiah itu bisa b...</td>\n",
       "      <td>pundi ratus triliun rupiah beli beli kepala ba...</td>\n",
       "      <td>-1</td>\n",
       "    </tr>\n",
       "    <tr>\n",
       "      <th>...</th>\n",
       "      <td>...</td>\n",
       "      <td>...</td>\n",
       "      <td>...</td>\n",
       "    </tr>\n",
       "    <tr>\n",
       "      <th>1911</th>\n",
       "      <td>Infonya Penjahat macam LE di Penjara Seumur hi...</td>\n",
       "      <td>info jahat le rakyatpapuadukungpenjarakanlukas...</td>\n",
       "      <td>-1</td>\n",
       "    </tr>\n",
       "    <tr>\n",
       "      <th>1912</th>\n",
       "      <td>Infonya Penjahat macam LE di Penjara Seumur hi...</td>\n",
       "      <td>info jahat le rakyatpapuadukungpenjarakanlukas...</td>\n",
       "      <td>-1</td>\n",
       "    </tr>\n",
       "    <tr>\n",
       "      <th>1913</th>\n",
       "      <td>Infonya Penjahat macam LE di Penjara Seumur hi...</td>\n",
       "      <td>info jahat le papua rugi ulah gubernur rakyatp...</td>\n",
       "      <td>-1</td>\n",
       "    </tr>\n",
       "    <tr>\n",
       "      <th>1914</th>\n",
       "      <td>@TRANS7 Penjara saja seumur hidup</td>\n",
       "      <td>trans</td>\n",
       "      <td>0</td>\n",
       "    </tr>\n",
       "    <tr>\n",
       "      <th>1915</th>\n",
       "      <td>@msaid_didu Jgn selalu menyalahkan pemerintah ...</td>\n",
       "      <td>msaiddidu jgn salah perintah tua beda fungsi w...</td>\n",
       "      <td>-1</td>\n",
       "    </tr>\n",
       "  </tbody>\n",
       "</table>\n",
       "<p>1916 rows × 3 columns</p>\n",
       "</div>"
      ],
      "text/plain": [
       "                                                 tweets  \\\n",
       "0     Vonis hukuman penjara seumur hidup berarti sam...   \n",
       "1     @asumsico penjara seumur hidup,... \\n\\ns&amp;k...   \n",
       "2     JPU telah menuntut hukuman pada masing2 terdak...   \n",
       "3     @convomf Iya deh gue bingung. Dr gue msh cimit...   \n",
       "4     Punya pundi² seratus triliun rupiah itu bisa b...   \n",
       "...                                                 ...   \n",
       "1911  Infonya Penjahat macam LE di Penjara Seumur hi...   \n",
       "1912  Infonya Penjahat macam LE di Penjara Seumur hi...   \n",
       "1913  Infonya Penjahat macam LE di Penjara Seumur hi...   \n",
       "1914                  @TRANS7 Penjara saja seumur hidup   \n",
       "1915  @msaid_didu Jgn selalu menyalahkan pemerintah ...   \n",
       "\n",
       "                                           clean_tweets  sentiment  \n",
       "0                        vonis hukum arti sampe mati ya          0  \n",
       "1                                   asumsico sampk laku          0  \n",
       "2     jpu tuntut hukum dakwa bunuh rencana j fs pc r...         -1  \n",
       "3     convomf iya deh gue bingung dr gue msh cimit c...         -1  \n",
       "4     pundi ratus triliun rupiah beli beli kepala ba...         -1  \n",
       "...                                                 ...        ...  \n",
       "1911  info jahat le rakyatpapuadukungpenjarakanlukas...         -1  \n",
       "1912  info jahat le rakyatpapuadukungpenjarakanlukas...         -1  \n",
       "1913  info jahat le papua rugi ulah gubernur rakyatp...         -1  \n",
       "1914                                              trans          0  \n",
       "1915  msaiddidu jgn salah perintah tua beda fungsi w...         -1  \n",
       "\n",
       "[1916 rows x 3 columns]"
      ]
     },
     "execution_count": 103,
     "metadata": {},
     "output_type": "execute_result"
    }
   ],
   "source": [
    "# Mengubah data sentimen menjadi data numerik\n",
    "# 1 untuk positif\n",
    "# 0 untuk netral\n",
    "# -1 untuk negatif\n",
    "\n",
    "df_tweets.replace({\"sentiment\":{\"negatif\":int(-1), \"positif\":int(1), 'netral':int(0)}}, inplace=True)\n",
    "df_tweets"
   ]
  },
  {
   "cell_type": "code",
   "execution_count": 104,
   "metadata": {},
   "outputs": [],
   "source": [
    "# Mengubah fitur teks menjadi numerik menggunakan TFIDF Vectorizer\n",
    "\n",
    "vectorizer = TfidfVectorizer (max_features=2500)\n",
    "\n",
    "v_data = vectorizer.fit_transform(df_tweets['clean_tweets']).toarray()\n",
    "vectorizer.fit_transform(df_tweets['clean_tweets'])\n",
    "\n",
    "X_train, X_test, y_train, y_test = train_test_split(v_data, df_tweets['sentiment'], test_size=0.2, random_state = 36)"
   ]
  },
  {
   "cell_type": "code",
   "execution_count": 105,
   "metadata": {},
   "outputs": [
    {
     "data": {
      "text/plain": [
       "GaussianNB(var_smoothing=1.0)"
      ]
     },
     "execution_count": 105,
     "metadata": {},
     "output_type": "execute_result"
    }
   ],
   "source": [
    "# Melatih model\n",
    "model_g = GaussianNB(var_smoothing=1.0)\n",
    "\n",
    "model_g.fit(X_train, y_train)"
   ]
  },
  {
   "cell_type": "code",
   "execution_count": 106,
   "metadata": {},
   "outputs": [
    {
     "name": "stdout",
     "output_type": "stream",
     "text": [
      "[[ 85  50   1]\n",
      " [  8 161   4]\n",
      " [  2  37  36]]\n",
      "              precision    recall  f1-score   support\n",
      "\n",
      "          -1       0.89      0.62      0.74       136\n",
      "           0       0.65      0.93      0.76       173\n",
      "           1       0.88      0.48      0.62        75\n",
      "\n",
      "    accuracy                           0.73       384\n",
      "   macro avg       0.81      0.68      0.71       384\n",
      "weighted avg       0.78      0.73      0.73       384\n",
      "\n",
      "Akurasi dari model adalah  0.734375\n"
     ]
    }
   ],
   "source": [
    "# Melihat performa dari model yang dibuat\n",
    "y_preds = model_g.predict(X_test)\n",
    "print(confusion_matrix(y_test,y_preds))\n",
    "print(classification_report(y_test,y_preds))\n",
    "print('Akurasi dari model adalah ',accuracy_score(y_test, y_preds))"
   ]
  },
  {
   "cell_type": "code",
   "execution_count": 107,
   "metadata": {},
   "outputs": [
    {
     "data": {
      "text/html": [
       "<div>\n",
       "<style scoped>\n",
       "    .dataframe tbody tr th:only-of-type {\n",
       "        vertical-align: middle;\n",
       "    }\n",
       "\n",
       "    .dataframe tbody tr th {\n",
       "        vertical-align: top;\n",
       "    }\n",
       "\n",
       "    .dataframe thead th {\n",
       "        text-align: right;\n",
       "    }\n",
       "</style>\n",
       "<table border=\"1\" class=\"dataframe\">\n",
       "  <thead>\n",
       "    <tr style=\"text-align: right;\">\n",
       "      <th></th>\n",
       "      <th>Judul Berita</th>\n",
       "      <th>clean_news</th>\n",
       "      <th>sentiment</th>\n",
       "    </tr>\n",
       "  </thead>\n",
       "  <tbody>\n",
       "    <tr>\n",
       "      <th>0</th>\n",
       "      <td>Sambo Minta Dibebaskan dari Segala Dakwaan dan...</td>\n",
       "      <td>bebas dakwa tuntut</td>\n",
       "      <td>-1</td>\n",
       "    </tr>\n",
       "    <tr>\n",
       "      <th>1</th>\n",
       "      <td>Ferdy Sambo Minta Dibebaskan di Kasus Pembunuh...</td>\n",
       "      <td>bebas bunuh yosua</td>\n",
       "      <td>-1</td>\n",
       "    </tr>\n",
       "    <tr>\n",
       "      <th>2</th>\n",
       "      <td>Pengacara Sambo Nilai Jaksa Gagal Tunjukkan Mo...</td>\n",
       "      <td>acara nilai jaksa gagal motif bunuh yosua</td>\n",
       "      <td>-1</td>\n",
       "    </tr>\n",
       "    <tr>\n",
       "      <th>4</th>\n",
       "      <td>Sambo Kutip Ayat Alkitab di Pleidoi: Kiranya T...</td>\n",
       "      <td>kutip ayat alkitab pleidoi tuhan tobat</td>\n",
       "      <td>0</td>\n",
       "    </tr>\n",
       "    <tr>\n",
       "      <th>5</th>\n",
       "      <td>Sambo: Tak Terbayang, Hidup Saya Terhormat dal...</td>\n",
       "      <td>bayang hormat kejap perosok nestapa</td>\n",
       "      <td>0</td>\n",
       "    </tr>\n",
       "    <tr>\n",
       "      <th>...</th>\n",
       "      <td>...</td>\n",
       "      <td>...</td>\n",
       "      <td>...</td>\n",
       "    </tr>\n",
       "    <tr>\n",
       "      <th>121</th>\n",
       "      <td>Teks Editorial: Pengertian, Struktur, Ciri dan...</td>\n",
       "      <td>teks editorial erti struktur ciri contoh mudah...</td>\n",
       "      <td>0</td>\n",
       "    </tr>\n",
       "    <tr>\n",
       "      <th>122</th>\n",
       "      <td>Tangis Putri Candrawathi Saat Telepon Ferdy Sa...</td>\n",
       "      <td>tangis putri candrawathi telepon adu leceh</td>\n",
       "      <td>0</td>\n",
       "    </tr>\n",
       "    <tr>\n",
       "      <th>123</th>\n",
       "      <td>Ahli Pidana UISU Percaya JPU Akan Tuntut Ferdy...</td>\n",
       "      <td>ahli pidana uisu percaya jpu tuntut hukum mati</td>\n",
       "      <td>0</td>\n",
       "    </tr>\n",
       "    <tr>\n",
       "      <th>124</th>\n",
       "      <td>10 Kesaksian Bripka RR Sebelum Insiden Berdara...</td>\n",
       "      <td>saksi bripka rr insiden darah yosua</td>\n",
       "      <td>-1</td>\n",
       "    </tr>\n",
       "    <tr>\n",
       "      <th>125</th>\n",
       "      <td>2 Status Tersangka Ferdy Sambo dalam Kasus Pem...</td>\n",
       "      <td>status sangka bunuh yosua</td>\n",
       "      <td>-1</td>\n",
       "    </tr>\n",
       "  </tbody>\n",
       "</table>\n",
       "<p>114 rows × 3 columns</p>\n",
       "</div>"
      ],
      "text/plain": [
       "                                          Judul Berita  \\\n",
       "0    Sambo Minta Dibebaskan dari Segala Dakwaan dan...   \n",
       "1    Ferdy Sambo Minta Dibebaskan di Kasus Pembunuh...   \n",
       "2    Pengacara Sambo Nilai Jaksa Gagal Tunjukkan Mo...   \n",
       "4    Sambo Kutip Ayat Alkitab di Pleidoi: Kiranya T...   \n",
       "5    Sambo: Tak Terbayang, Hidup Saya Terhormat dal...   \n",
       "..                                                 ...   \n",
       "121  Teks Editorial: Pengertian, Struktur, Ciri dan...   \n",
       "122  Tangis Putri Candrawathi Saat Telepon Ferdy Sa...   \n",
       "123  Ahli Pidana UISU Percaya JPU Akan Tuntut Ferdy...   \n",
       "124  10 Kesaksian Bripka RR Sebelum Insiden Berdara...   \n",
       "125  2 Status Tersangka Ferdy Sambo dalam Kasus Pem...   \n",
       "\n",
       "                                            clean_news  sentiment  \n",
       "0                                   bebas dakwa tuntut         -1  \n",
       "1                                    bebas bunuh yosua         -1  \n",
       "2            acara nilai jaksa gagal motif bunuh yosua         -1  \n",
       "4               kutip ayat alkitab pleidoi tuhan tobat          0  \n",
       "5                  bayang hormat kejap perosok nestapa          0  \n",
       "..                                                 ...        ...  \n",
       "121  teks editorial erti struktur ciri contoh mudah...          0  \n",
       "122         tangis putri candrawathi telepon adu leceh          0  \n",
       "123     ahli pidana uisu percaya jpu tuntut hukum mati          0  \n",
       "124                saksi bripka rr insiden darah yosua         -1  \n",
       "125                          status sangka bunuh yosua         -1  \n",
       "\n",
       "[114 rows x 3 columns]"
      ]
     },
     "execution_count": 107,
     "metadata": {},
     "output_type": "execute_result"
    }
   ],
   "source": [
    "# Melakukan prediksi sentimen pada data judul berita\n",
    "v_data = vectorizer.transform(df_news[\"clean_news\"]).toarray()\n",
    "y_classification = model_g.predict(v_data)\n",
    "df_news[\"sentiment\"] = list(y_classification)\n",
    "df_news"
   ]
  },
  {
   "cell_type": "code",
   "execution_count": 108,
   "metadata": {},
   "outputs": [
    {
     "data": {
      "image/png": "[encoded data removed]",
      "text/plain": [
       "<Figure size 432x288 with 1 Axes>"
      ]
     },
     "metadata": {
      "needs_background": "light"
     },
     "output_type": "display_data"
    }
   ],
   "source": [
    "# Distribusi sentimen dari data judul berita yang didapat\n",
    "c = Counter(df_news[\"sentiment\"])\n",
    "\n",
    "plt.bar(c.keys(), c.values())\n",
    "plt.title(f'Sentiment Distribution')\n",
    "plt.xlabel('Labels')\n",
    "plt.ylabel('Counts')\n",
    "plt.show()"
   ]
  },
  {
   "cell_type": "code",
   "execution_count": 109,
   "metadata": {},
   "outputs": [
    {
     "data": {
      "text/plain": [
       "Series([], dtype: int64)"
      ]
     },
     "execution_count": 109,
     "metadata": {},
     "output_type": "execute_result"
    }
   ],
   "source": [
    "pos = df_news[df_news['sentiment']==1]['clean_news']\n",
    "positive_title = [word for title in pos.apply(lambda x: word_tokenize(str(x))) for word in title]\n",
    "\n",
    "pd.Series(nltk.ngrams(positive_title, 2)).value_counts()[:5]"
   ]
  },
  {
   "cell_type": "code",
   "execution_count": 110,
   "metadata": {},
   "outputs": [
    {
     "data": {
      "text/plain": [
       "(tuntut, bui)           14\n",
       "(putri, candrawathi)     8\n",
       "(hukum, mati)            7\n",
       "(bocor, vonis)           6\n",
       "(jaksa, tuntut)          4\n",
       "dtype: int64"
      ]
     },
     "execution_count": 110,
     "metadata": {},
     "output_type": "execute_result"
    }
   ],
   "source": [
    "net = df_news[df_news['sentiment']==0]['clean_news']\n",
    "neutral_title = [word for title in net.apply(lambda x: word_tokenize(str(x))) for word in title]\n",
    "\n",
    "pd.Series(nltk.ngrams(neutral_title, 2)).value_counts()[:5]"
   ]
  },
  {
   "cell_type": "code",
   "execution_count": 111,
   "metadata": {},
   "outputs": [
    {
     "data": {
      "text/plain": [
       "(keluarga, yosua)    14\n",
       "(bunuh, yosua)        7\n",
       "(nilai, tuntut)       5\n",
       "(yosua, kecewa)       5\n",
       "(tuntut, bui)         5\n",
       "dtype: int64"
      ]
     },
     "execution_count": 111,
     "metadata": {},
     "output_type": "execute_result"
    }
   ],
   "source": [
    "neg = df_news[df_news['sentiment']==-1]['clean_news']\n",
    "negative_title = [word for title in neg.apply(lambda x: word_tokenize(str(x))) for word in title]\n",
    "\n",
    "pd.Series(nltk.ngrams(negative_title, 2)).value_counts()[:5]"
   ]
  },
  {
   "attachments": {},
   "cell_type": "markdown",
   "metadata": {},
   "source": [
    "# 5. Data Analysis\n",
    "\n",
    "## Sentimen analisis (ML)\n",
    "Model yang dihasilkan memiliki skor akurasi sekitar 0.68. Hasil ini cukup baik meskipun sebenarnya dapat ditingkatkan. Untuk prediksi yang dihasilkan, kebanyakan hasil adalah negatif dan netral, tanpa ada positif satupun\n",
    "\n",
    "Beberapa hal yang perlu diperhatikan dalam penggunaan model ini adalah:\n",
    "1. Label sentimen yang digunakan di-generate secara otomatis menggunakan kamus bahasa. Hal ini tentu saja dapat menjadi perhatian karena masih memungkinkan kesalahan pelabelan yang dilakukan oleh mesin. Sebagai contoh, tweet yang sebenarnya memiliki sentimen positif namun menggunakan kata-kata yang negatif tentu saja akan dilabeli negatif. Begitu pula sebaliknya. Pelabelan secara manual oleh manusia tentu lebih diinginkan.\n",
    "2. Perbedaan data train dan data test. Data train merupakan data tweet dari Twitter yang bersifat lebih bebas dan terdapat opini dari publik. Sedangkan data test merupakan data berita dari media massa yang lebih terstruktur dan terorganisir. \n",
    "3. Ketimpangan label data train dimana lebih banyak label sentimen negatif dan netral."
   ]
  }
 ],
 "metadata": {
  "kernelspec": {
   "display_name": "base",
   "language": "python",
   "name": "python3"
  },
  "language_info": {
   "codemirror_mode": {
    "name": "ipython",
    "version": 3
   },
   "file_extension": ".py",
   "mimetype": "text/x-python",
   "name": "python",
   "nbconvert_exporter": "python",
   "pygments_lexer": "ipython3",
   "version": "3.9.7"
  },
  "orig_nbformat": 4,
  "vscode": {
   "interpreter": {
    "hash": "9c1d5a056f04d97314a9f946bc8c5185004572d3d68312220c0ba298420421f7"
   }
  }
 },
 "nbformat": 4,
 "nbformat_minor": 2
}
